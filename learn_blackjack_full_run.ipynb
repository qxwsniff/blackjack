{
 "cells": [
  {
   "cell_type": "markdown",
   "metadata": {},
   "source": [
    "# <div align=\"center\"> Learning to play Blackjack with Q-learning </div>\n",
    "\n",
    "<font color=\"red\">To do:\n",
    " - before retraining the specialist final agent at new LR decay, check params are the best params!(0.999999 vs 0.99999 decay)\n",
    " - ensure figures in red are updated and note impact on wider comments\n",
    " - finish discussion\n",
    " - add brief comments on parameter settings with better results\n",
    " - harmonize intro/middle/discussion statements about AI vs human performance\n",
    " \n",
    "</font>\n",
    "\n",
    "In this notebook I'll show how Q-learning can be used by an agent with no prior knowledge to teach itself to play Blackjack. While I don't expect the agent to find a way to make money from gambling, I am interested in how artifical intelligence trained over hundreds of thousands of games fares against top human performance. Indeed, by the end of this notebook we will show that a model-free agent can learn to play at near-human levels, reaching <font color='red'>99.66%</font> of human performance in under an hour.\n",
    "\n",
    "To make the comparison we will simulate games under a strategy recommended by a human expert, using the simulation's mean rewards over last n episodes as the benchmark. Since mean rewards are expected to be negative in all cases (human or otherwise), we can also reframe this standard RL evaluation metric as something more easily understood to wider audiences: \"expected value of funds after 100 games\". We can then take the mean expected value for humans as the benchmark of what \"100% accurate\" looks like.\n",
    "\n",
    "In terms of coding strategy, I start with low level functions that are incorporated into increasingly large functions. This helps us reduce duplication of code when we vary the parameters under which agents are trained.\n",
    "\n",
    "\n",
    "#### Special thanks:\n",
    "My implementation relies heavily on the following key sources, which I highly recommend:\n",
    " - <a href=\"https://github.com/openai/gym/blob/master/gym/envs/toy_text/blackjack.py\" target=\"_blank\"> Blackjack environment created by OpenAI Gym </a>\n",
    " - <a href=\"https://medium.com/emergent-future/simple-reinforcement-learning-with-tensorflow-part-0-q-learning-with-tables-and-neural-networks-d195264329d0\" target=\"_blank\"> Arthur Juliani's Medium tutorial on Q-learning implementation </a>\n",
    " -  <a href=\"https://medium.com/emergent-future/simple-reinforcement-learning-with-tensorflow-part-7-action-selection-strategies-for-exploration-d3a97b7cceaf\" target=\"_blank\"> Arthur Juliani's Medium tutorial on policy rule implementation </a>\n",
    "\n",
    "\n",
    "#### Contents:\n",
    "1. Create Blackjack environment \n",
    "2. Q-learning implementation and variations\n",
    "3. Connect Q-learning algorithm with environment\n",
    "4. Training example\n",
    "5. Optimization: training with grid search\n",
    "6. Comparison against human strategy\n",
    "7. Discussion"
   ]
  },
  {
   "cell_type": "markdown",
   "metadata": {},
   "source": [
    "### 0) Load modules & basic set-up"
   ]
  },
  {
   "cell_type": "code",
   "execution_count": 1,
   "metadata": {},
   "outputs": [],
   "source": [
    "import gym\n",
    "from gym import spaces\n",
    "from gym.utils import seeding\n",
    "\n",
    "import pandas as pd\n",
    "import numpy as np\n",
    "import random\n",
    "import datetime\n",
    "import time\n",
    "import pickle\n",
    "import os\n",
    "\n",
    "from sklearn.model_selection import ParameterGrid\n",
    "\n",
    "import matplotlib.pyplot as plt\n",
    "import seaborn as sns\n",
    "\n",
    "# hide warnings\n",
    "import warnings\n",
    "warnings.filterwarnings('ignore')"
   ]
  },
  {
   "cell_type": "markdown",
   "metadata": {},
   "source": [
    "### 1) Create Blackjack environment"
   ]
  },
  {
   "cell_type": "markdown",
   "metadata": {},
   "source": [
    "The basics of the environment are handled in local files *blackjack_env.py* and *settings.py*. The former file is the main environment as coded by <a href=\"https://github.com/openai/gym/blob/master/gym/envs/toy_text/blackjack.py\" target=\"_blank\" >OpenAI Gym</a>, plus some minor modifications I added to make the game more interesting such as the inclusion of the \"Double\" action. The latter file contains some parameters I added which influence the laws of the game held in the main environment file, e.g. controlling when the dealer stops taking cards or how many different actions we allow our agent to perform.\n",
    "\n",
    "For those unfamiliar with Blackjack, I will include the description of the game written by OpenAI Gym. I should emphasise that this is a slightly different version to the standard game, since the action \"split\" is removed to keep things a little simpler."
   ]
  },
  {
   "cell_type": "markdown",
   "metadata": {},
   "source": [
    "<div class=\"alert alert-info\">\n",
    "<h4> Blackjack rules: </h4>\n",
    "<p>\n",
    "“Blackjack is a card game where the goal is to obtain cards that sum to as near as possible to 21 without going over.  They're playing against a fixed dealer. Face cards (Jack, Queen, King) have point value 10. Aces can either count as 11 or 1, and it's called 'usable' at 11. This game is placed with an infinite deck (or with replacement).\n",
    "The game starts with each (player and dealer) having one face up and one face down card. The player can request additional cards (hit=1) until they decide to stop (stick=0) or exceed 21 (bust). After the player sticks, the dealer reveals their facedown card, and draws until their sum is 17 or greater.  If the dealer goes bust the player wins. If neither player nor dealer busts, the outcome (win, lose, draw) is decided by whose sum is closer to 21.  The reward for winning is +1, drawing is 0, and losing is -1.” – <i>OpenAI Gym source code</i> </p>\n",
    "<p>\n",
    "    \n",
    "<b>NB:</b> The above variant of Blackjack excludes the actions ‘Double’ and ‘Split’, though we reinstate 'Double' to study agents’ approach to risk-taking. We leave out the latter for simplicity reasons.\n",
    "</p>\n",
    "</div>\n"
   ]
  },
  {
   "cell_type": "code",
   "execution_count": 2,
   "metadata": {},
   "outputs": [
    {
     "name": "stdout",
     "output_type": "stream",
     "text": [
      "Created environment:\n",
      "Goal: 21 | DealerStop: 4 | DoubleBias: 0 | DoubleBoost: 2 | NumActions: 3\n"
     ]
    }
   ],
   "source": [
    "# load settings of environment from local file\n",
    "from settings import *\n",
    "\n",
    "# load the Blackjack environment from local file\n",
    "from blackjack_env import *\n",
    "\n",
    "# create environment\n",
    "env = BlackjackEnv()\n",
    "\n",
    "# Confirm the environment our agent will play in\n",
    "ENV_VALS = (BLACKJACK_SCORE, DEALER_STOP, DOUBLE_BIAS, ODDS_BOOST, NUM_ACTIONS)\n",
    "print(\"Created environment:\")\n",
    "print(\"Goal: %i | DealerStop: %i | DoubleBias: %i | DoubleBoost: %i | NumActions: %i\" % ENV_VALS)"
   ]
  },
  {
   "cell_type": "markdown",
   "metadata": {},
   "source": [
    "It is always useful to articulate the environment's state transition matrix before training. This helps us understand the environment our agent needs to traverse in a more mathematical fashion, particularly the probabilities associated with drawing cards randomly. But to keep this notebook focussed on Q-learning itself, I have included that analysis in a <a href=\"https://github.com/slmwest/blackjack/blob/master/state_transition_analysis.ipynb\" target=\"_blank\">separate notebook here</a>."
   ]
  },
  {
   "cell_type": "markdown",
   "metadata": {},
   "source": [
    "### 2) Q-learning implementation and variations\n",
    "\n",
    "We will start by implementing a series of selection policies, all of which control how our agent chooses actions. Since the agent will start with a blank canvas, we cannot simply let the agent always pick the \"best\" action. Rather, these policies help the agent manage the \"exploration-exploitation trade-off\". In all cases, the agent will start by prioritising \"exploration\": choosing actions mostly randomly so that it can experience as many different rewards and penalties as possible. As it gains more experience, it will begin to reduce the frequency of these random actions, instead prioritising \"exploitation\": using its experience so far to choose the action with highest expected future rewards.\n",
    "\n",
    "The policies implemented are:\n",
    "- e-greedy policy\n",
    "- boltzmann policy\n",
    "- both of the above but with Double-Q learning (see more in the following block of code)"
   ]
  },
  {
   "cell_type": "code",
   "execution_count": 3,
   "metadata": {},
   "outputs": [],
   "source": [
    "def select_egreedy(Q_row, number_actions, eps=0.9):\n",
    "    \"\"\"\n",
    "    Select an action (index) based on e-greedy policy,\n",
    "    e.g. random with probability e and per\n",
    "    current Q-values with probability 1-e\n",
    "    \"\"\"\n",
    "    if np.random.rand() < eps:\n",
    "        # pick by random choice\n",
    "        return np.random.choice(np.arange(0, number_actions))   \n",
    "    else:\n",
    "        # choose highest expected value action\n",
    "        return np.argmax(Q_row)    \n",
    "\n",
    "def select_boltzmann(Q_row, number_actions, tau=1):\n",
    "    \"\"\"\n",
    "    Select an action (index) based on current Q values and\n",
    "    the current state of annealing, e.g. using inverse\n",
    "    temperature, tau.\n",
    "    \n",
    "    PARAMS:\n",
    "    tau = inverse temperature, e.g. as tau approaches 0\n",
    "          boltzmann distribution approaches uniform sampling.\n",
    "          higher tau prefers actions with higher expected values\n",
    "    \"\"\"\n",
    "    # normalize wrt minimum values, ensuring no negatives\n",
    "    Q_row_ajd = Q_row - Q_row.min()\n",
    "\n",
    "    # calculate probabilities under boltzmann distribution\n",
    "    Q_pr = np.exp(tau * Q_row_ajd) / np.exp(tau * Q_row_ajd).sum()\n",
    "    \n",
    "    # Make selection based on probabilities\n",
    "    try:\n",
    "        action_value = np.random.choice(Q_pr, p=Q_pr)\n",
    "    except:\n",
    "        # we might exceed memory limits for very large numbers\n",
    "        # when the temperature is very low. In these cases\n",
    "        # we would do well to simply pick the max value again\n",
    "        action_value = np.argmax(Q_row)\n",
    "    return np.argmax(Q_pr == action_value)\n",
    "\n",
    "def select_a(Q_row, policy=\"e\", param=0.9):\n",
    "    \"\"\" Select action from a row of Q for the given state\n",
    "    and for a given policy & parameter\n",
    "    \n",
    "    if policy == \"e\" then we will use e-greedy policy\n",
    "    if policy == \"b\" then we will use boltzmann distribution\n",
    "    \"\"\"\n",
    "    # choose action based on policy required\n",
    "    if policy==\"e\":\n",
    "        # use e-greedy policy, where param = epsilon\n",
    "        return select_egreedy(Q_row, env.action_space.n, param)\n",
    "    else:\n",
    "        # use boltzmann policy, where param = tau = inverse temperature\n",
    "        return select_boltzmann(Q_row, env.action_space.n, param)\n",
    "    \n",
    "def doubleQ_select(Q_a, Q_b, s, policy=\"e\", policy_param = 0.9):\n",
    "    \"\"\"\n",
    "    Function which enables selection using two Q matrices. Per van Hasselt's\n",
    "    original implementation:\n",
    "       'In our experiments, we calculated the average of the two Q values for each\n",
    "    action and then performed e-greedy exploration with the resulting average\n",
    "    Q values.' (Hado van Hasselt)\n",
    "    \n",
    "    Optional params:\n",
    "        policy = \"e\" or \"b\" for e-greedy and boltzmann respectively\n",
    "        policy_param = float, epsilon if e-greedy or inverse temperature (tau)\n",
    "                       if boltzmann \n",
    "    \"\"\"\n",
    "    \n",
    "    # take average Q values under consideration for given state\n",
    "    Q_avg_row =  (Q_a[s] + Q_b[s])/2\n",
    "    \n",
    "    # choose action based on given policy and policy parameter\n",
    "    return select_a(Q_avg_row, policy, policy_param)"
   ]
  },
  {
   "cell_type": "markdown",
   "metadata": {},
   "source": [
    "We now move to defining our update rules, which is how the agent learns from experience in playing Blackjack. We will use the standard update rule as well as a variation called **Double Q learning**, where two matrixes are maintained to avoid over-estimation of expected returns. For more information on this variation see https://arxiv.org/abs/1509.06461 "
   ]
  },
  {
   "cell_type": "code",
   "execution_count": 4,
   "metadata": {},
   "outputs": [],
   "source": [
    "def vanillaQ_update(Q, r, s, s1, a, lr, y):\n",
    "    \"\"\"\n",
    "    Update Q-matrix using standard update rule\n",
    "    \"\"\"\n",
    "    Q[s][a] = Q[s][a] + lr*(r + y*np.max(Q[s1]) - Q[s][a])\n",
    "    return Q\n",
    "\n",
    "def doubleQ_update(Q_a, Q_b, r, s0, s1, a,\n",
    "                   lr, y, prob_update_Q_a = 0.5):\n",
    "    \"\"\"\n",
    "    Randomly select a Q matrix to update, estimating future\n",
    "    rewards from the other matrix. Per van Hasselt's original\n",
    "    implementation.\n",
    "    \n",
    "    Parameters:\n",
    "        - prob_update_Q_a: probability of updating the first matrix.\n",
    "                           (allows experimentation with reliance on\n",
    "                           the first Q matrix vs the second Q matrix)\n",
    "    \"\"\"\n",
    "    \n",
    "    if np.random.rand() < prob_update_Q_a:\n",
    "        # update Q_a matrix, taking copy before update for reference\n",
    "        Q_old = np.copy(Q_a)\n",
    "        optimal_a = np.argmax(Q_a[s1][a])\n",
    "        Q_a[s0][a] = Q_a[s0][a] + lr*(r + y*Q_b[s1][optimal_a] - Q_a[s0][a])\n",
    "        \n",
    "    else:\n",
    "        # update Q_b matrix, taking copy before update for reference\n",
    "        Q_old = np.copy(Q_b)\n",
    "        optimal_b = np.argmax(Q_b[s1][a])\n",
    "        Q_b[s0][a] = Q_b[s0][a] + lr*(r + y*Q_a[s1][optimal_b] - Q_b[s0][a])\n",
    "        \n",
    "    return Q_a, Q_b, Q_old"
   ]
  },
  {
   "cell_type": "markdown",
   "metadata": {},
   "source": [
    "### 3) Connect Q-learning algorithm with environment\n",
    "\n",
    "Now that we have an environment and functions that implement Q-learning, we can connect them together and watch our agent learn to play! We will put this functionality into a function so that we can easily recall it under different parameters in the rest of this notebook. "
   ]
  },
  {
   "cell_type": "code",
   "execution_count": 5,
   "metadata": {},
   "outputs": [],
   "source": [
    "def playGame(Q_a=None, Q_b = None, verbose=0,\n",
    "             dbl_Q=0, lr=0.1, y=0.6,\n",
    "             policy = \"e\", policy_param=0.7,\n",
    "             num_episodes = 1, cb_over_num_eps=10000):\n",
    "    \"\"\"\n",
    "    Main function where agent learns to play Blackjack.\n",
    "    \n",
    "    Inputs:\n",
    "      Q_a, Q_b        = None, None or pre-trained matrix, None\n",
    "      verbose         = verbosity level\n",
    "      dbl_Q           = 1 if using double Q learning\n",
    "      policy          = \"e\" for e-greedy, \"b\" for boltzmann\n",
    "      policy_param    = float controlling above policy\n",
    "      num_episodes    = number of games to play\n",
    "      cb_over_num_eps = maintain a callback version of agent \n",
    "                        if they have superior performance over\n",
    "                        this number of games\n",
    "                        \n",
    "    Outputs:\n",
    "      Q_out           = Q-matrix of agent after final episode\n",
    "      rList           = list of agent's rewards in each episode \n",
    "      Q_cb            = Q-matrix of callback agent\n",
    "      last_cb_ep      = episode number where callback agent was created\n",
    "    \"\"\"\n",
    "    \n",
    "    # state space needs to be blackjack_score+11\n",
    "    # e.g. ace on top of a score of 21\n",
    "    if Q_a is None:\n",
    "        Q_a = np.zeros([BLACKJACK_SCORE+11,11,2,env.action_space.n])\n",
    "\n",
    "    # take a copy of Q matrix if we are using double Q learning\n",
    "    if dbl_Q != 0:\n",
    "        Q_b = np.copy(Q_a)\n",
    "    \n",
    "    # prepare a 'call-back' version of the Q-matrix\n",
    "    # e.g. the one with best mean rewards over last N episodes\n",
    "    Q_cb = Q_a.copy()\n",
    "    best_meanR = -999999    # value holding \"best score\" yet\n",
    "    last_cb_ep = 0          # record of last episode the call-back is made to\n",
    "    a_freq = np.zeros(env.action_space.n)\n",
    "\n",
    "    # if using Boltzmann policy, set rate of annealing (tau = inverse temperature)\n",
    "    # grows from start value to 200 over (pc_episodes_tau_growth*num_episodes) steps \n",
    "    if policy==\"b\":\n",
    "        pc_episodes_tau_growth = 0.6\n",
    "        end_growth_ep = pc_episodes_tau_growth*num_episodes\n",
    "        tau_growth = (200/policy_param)**(1/end_growth_ep)\n",
    "\n",
    "    #create lists to contain total rewards and steps per episode\n",
    "    rList = []\n",
    "    for i in range(num_episodes):\n",
    "        #Reset environment and get first new observation\n",
    "        s = env.reset()\n",
    "        rAll = 0\n",
    "        d = False\n",
    "        j = 0\n",
    "        \n",
    "        # game will not exceed 20 moves, limit while loop out of caution\n",
    "        while j < 20:\n",
    "            j+=1\n",
    "\n",
    "            # choose an acion per given policy        \n",
    "            if dbl_Q==0:\n",
    "                Q_row = Q_a[s]\n",
    "                a = select_a(Q_row, policy, policy_param)  \n",
    "            else:\n",
    "                Q_avg_row =  (Q_a[s] + Q_b[s])/2\n",
    "                a = select_a(Q_avg_row, policy, policy_param) \n",
    "\n",
    "            #Get new state and reward from environment\n",
    "            Q_old = np.copy(Q_a)\n",
    "            player_hand_old = env.player.copy()\n",
    "            s1,r,d,_ = env.step(a)\n",
    "            \n",
    "            # Update Q-Table with new knowledge, unless in testing mode (lrate = 0.0)\n",
    "            if lr > 0:\n",
    "                if dbl_Q==0:\n",
    "                    Q_a[s][a] = Q_a[s][a] + lr*(r + y*np.max(Q_a[s1]) - Q_a[s][a])\n",
    "                else:\n",
    "                    # Double-Q learning: use the second matrix as estimate of expected returns\n",
    "                    Q_a, Q_b, Q_old = doubleQ_update(Q_a, Q_b, r, s, s1, a, lr, y)\n",
    "    \n",
    "            # inspect the step & Q matrix once, at 1/5 through training\n",
    "            if (i == num_episodes//5) & (verbose > 2):\n",
    "                if ((dbl_Q==0)|(np.array_equal(Q_b, Q_old))):\n",
    "                    Q_new = np.copy(Q_a)\n",
    "                else:\n",
    "                    Q_new = np.copy(Q_b) \n",
    "                show_step(player_hand_old, env.player, env.dealer,\n",
    "                          s, s1, a, Q_old, Q_new, r, d)\n",
    "            \n",
    "            # update rewards and state\n",
    "            rAll += r\n",
    "            s = s1\n",
    "\n",
    "            if d == True:            \n",
    "                #Reduce chance of random action as we train the model.\n",
    "                # for e-greedy policy, reduce epsilon\n",
    "                if policy==\"e\":\n",
    "                    if policy_param >= 0.5:\n",
    "                        policy_param *= 0.99999\n",
    "                    else:\n",
    "                        policy_param *= 0.9999\n",
    "                        \n",
    "                # for boltzmann policy, increase tau (inverse temperature)\n",
    "                if policy==\"b\":\n",
    "                    if i < end_growth_ep:\n",
    "                        policy_param *= tau_growth\n",
    "                \n",
    "                # For each of the final 5 episodes, show the game for inspection\n",
    "                if (i >= (num_episodes-5)) & (verbose > 1):\n",
    "                    show_ep(env.player, env.dealer, r, i)\n",
    "                \n",
    "                # we can also reduce the learning rate over time\n",
    "                # we will only do this after a very large number of games played\n",
    "                # See last comments in Section 6 where we introduce this idea\n",
    "                learn_decay_after_ep = 250000\n",
    "                if (i >= learn_decay_after_ep):\n",
    "                    lr *= 0.999999\n",
    "                    \n",
    "                break\n",
    "\n",
    "        # append reward to list\n",
    "        rList.append(rAll)\n",
    "        \n",
    "        # update the callback Q-matrix IIF better average over last N episodes\n",
    "        meanR_lastN_eps = meanR_lastN(rList, n=cb_over_num_eps)\n",
    "        if ((i > cb_over_num_eps) & (meanR_lastN_eps > best_meanR)):\n",
    "            \n",
    "            # take average of Q-values first if double Q learning\n",
    "            if dbl_Q == 0:\n",
    "                Q_cb = np.copy(Q_a)\n",
    "            else:\n",
    "                Q_cb = (Q_a + Q_b) / 2\n",
    "            last_cb_ep = i\n",
    "            best_meanR = meanR_lastN_eps\n",
    "            \n",
    "        # show some training feedback every n episodes\n",
    "        feedback_freq = num_episodes//5\n",
    "        if verbose > 0:\n",
    "            if i % feedback_freq == 0:\n",
    "                print(\"Ep: {}\\tMean reward over last {} episodes: {}. ({}-policy @ {})\".format(i,\n",
    "                        cb_over_num_eps, meanR_lastN_eps,\n",
    "                        policy, np.around(policy_param, decimals=5)))\n",
    "        \n",
    "    # show overall success history of agent \n",
    "    if verbose > 1:\n",
    "        plt.figure(figsize=(12,4))\n",
    "        plt.plot(np.cumsum(rList))\n",
    "        plt.title('Performance vs. episodes')\n",
    "        plt.ylabel('Total Returns')\n",
    "        plt.xlabel('Episode number')\n",
    "        plt.axvline(x=last_cb_ep, linestyle=\"--\", color=\"black\")    # show the last callback episode\n",
    "        plt.show()\n",
    "        \n",
    "    # before returning Q matrix, take average if double Q-learning\n",
    "    if dbl_Q == 0:\n",
    "        Q_out = np.copy(Q_a)\n",
    "    else:\n",
    "        Q_out = (Q_a + Q_b)/2\n",
    "        \n",
    "    return Q_out, rList, Q_cb, last_cb_ep"
   ]
  },
  {
   "cell_type": "markdown",
   "metadata": {},
   "source": [
    "### 4) Training example"
   ]
  },
  {
   "cell_type": "markdown",
   "metadata": {},
   "source": [
    "Before we start training, we want to have some functions that let us evaluate the agent's performance numerically, as well as some ability to visually inspect what is going on at both a high- and granular-level."
   ]
  },
  {
   "cell_type": "code",
   "execution_count": 6,
   "metadata": {},
   "outputs": [],
   "source": [
    "def mode(l):\n",
    "    \"\"\" Find the mode of a given list l. \"\"\"\n",
    "    return max(set(l), key=l.count)\n",
    "\n",
    "def meanR_lastN(r_list, n=200):\n",
    "    \"\"\" Find mean over the last n items in a list \"\"\"\n",
    "    return np.mean(r_list[-n:])\n",
    "\n",
    "def expected_value_funds(meanR, funds_in=100, games_played=100):\n",
    "    \"\"\" Returns the expected value of funds after n games, given the meanR\n",
    "        of an associated strategy \"\"\"\n",
    "    return funds_in + (games_played * meanR)\n",
    "\n",
    "def calc_success_rate2(rList, eval_last_n=50000, produce_ts=False, title_add=\" (final agent)\"):\n",
    "    \"\"\" Calcuate success rate over moving window using a given rList\n",
    "        NB: This version takes double odds into account\"\"\"\n",
    "    # filter to just positive and negative lists\n",
    "    wins_list = np.array(rList)\n",
    "    loss_list = wins_list.copy()\n",
    "    wins_list[wins_list < 0] = 0\n",
    "    loss_list[loss_list > 0] = 0\n",
    "    ts_success = []\n",
    "      \n",
    "    # calculate average success rate for evaluation period\n",
    "    num_wins = np.sum(wins_list)\n",
    "    num_losses = abs(np.sum(loss_list))\n",
    "    mean_success_rate = num_wins / (num_wins + num_losses)\n",
    "    \n",
    "    if produce_ts:\n",
    "        # calculate success rate over moving window\n",
    "        window=eval_last_n \n",
    "        ts_step=1  \n",
    "        for i in np.arange(window, len(rList), ts_step):\n",
    "            num_wins = np.sum(wins_list[i-window:i])\n",
    "            num_losses = abs(np.sum(loss_list[i-window:i]))\n",
    "            success_in_window = num_wins / (num_wins + num_losses)\n",
    "            ts_success.append(success_in_window)\n",
    "            \n",
    "        # plot success over time, plus mean success rate in eval period\n",
    "        plt.figure()\n",
    "        plt.suptitle(\"Success rate over time{}\".format(title_add))\n",
    "        plt.title(\"Mean success rate during evaluation: %.3f\" % mean_success_rate)\n",
    "        plt.plot(ts_success)\n",
    "        plt.ylim([0.0,1.0])\n",
    "        plt.ylabel(\"Success rate\")\n",
    "        plt.xlabel(\"Number of episodes after initial evaluation @ Ep. {}\".format(window))\n",
    "        plt.show()\n",
    "\n",
    "    return ts_success, mean_success_rate\n",
    "\n",
    "def calc_success_rate(rList, eval_last_n=50000, produce_ts=False, title_add=\" (final agent)\"):\n",
    "    \"\"\" Calcuate success rate over moving window using a given rList.\n",
    "        NB: This version ignores the impact of double odds games. \"\"\"\n",
    "    # convert to binary 1/0 for success/failure\n",
    "    r_01 = [1*(r>0) for r in rList]\n",
    "    ts_success = []\n",
    "    \n",
    "    # calculate average success rate for evaluation period\n",
    "    num_wins = np.sum(r_01)\n",
    "    num_losses = np.sum([1*(r<0) for r in rList])\n",
    "    mean_success_rate = num_wins / (num_wins + num_losses)\n",
    "    \n",
    "    if produce_ts:\n",
    "        # calculate success rate over moving window\n",
    "        window=eval_last_n \n",
    "        ts_step=1\n",
    "        for i in np.arange(window, len(rList), ts_step):\n",
    "            num_wins = np.sum(r_01[i-window:i])\n",
    "            num_losses = np.sum([1*(r<0) for r in rList[i-window:i]])\n",
    "            success_in_window = num_wins / (num_wins + num_losses)\n",
    "            ts_success.append(success_in_window)\n",
    "            \n",
    "        # plot success over time, plus mean success rate in eval period\n",
    "        plt.figure()\n",
    "        plt.suptitle(\"Success rate over time{}\".format(title_add))\n",
    "        plt.title(\"Mean success rate during evaluation: %.3f\" % mean_success_rate)\n",
    "        plt.plot(ts_success)\n",
    "        plt.ylim([0.0,1.0])\n",
    "        plt.ylabel(\"Success rate\")\n",
    "        plt.xlabel(\"Number of episodes after initial evaluation @ Ep. {}\".format(window))\n",
    "        plt.show()\n",
    "\n",
    "    return ts_success, mean_success_rate\n",
    "\n",
    "def convert_first_1_to_11(l):\n",
    "    \"\"\" Convert the first 1 in a hand to 11, e.g. to faciliate understanding of hands played involving an Ace \"\"\"\n",
    "    for idx, i in enumerate(l):\n",
    "        if i == 1:\n",
    "            l[idx] = 11\n",
    "            break\n",
    "    return l"
   ]
  },
  {
   "cell_type": "code",
   "execution_count": 7,
   "metadata": {},
   "outputs": [],
   "source": [
    "def show_ep(player_hand, dealer_hand, reward, ep_no, cumulative=True):\n",
    "    \"\"\" Summarise the episode in text once it is complete \"\"\"\n",
    "    \n",
    "    # set some placeholder strings to indicate who won/lost/drew\n",
    "    pl_bust = \"\"\n",
    "    dl_bust = \"\"\n",
    "    \n",
    "    # show if anyone went bust with XXX\n",
    "    if is_bust(player_hand):\n",
    "        pl_bust = \"XXX\"\n",
    "    if is_bust(dealer_hand):\n",
    "        dl_bust = \"XXX\"\n",
    "    \n",
    "    # show who won, using !!! for win and --- for draw\n",
    "    if reward > 0:\n",
    "        pl_win = \"!!!\"\n",
    "        dl_win = \"\"\n",
    "    elif reward < 0:\n",
    "        pl_win = \"\"\n",
    "        dl_win = \"!!!\"\n",
    "    else:\n",
    "        pl_win = \"---\"\n",
    "        dl_win = \"---\"\n",
    "        \n",
    "    # update hands to show effects of an Ace being used as 11 (instead of 1)\n",
    "    if usable_ace(player_hand):\n",
    "        player_hand = convert_first_1_to_11(player_hand)\n",
    "    if usable_ace(dealer_hand):\n",
    "        dealer_hand = convert_first_1_to_11(dealer_hand)\n",
    "        \n",
    "    # display results\n",
    "    print(\"--- SUMMARY OF EP #{} ---\".format(ep_no))\n",
    "    if cumulative:\n",
    "        # simplest view\n",
    "        print(\"Player:\\t{} {}{}\".format(np.cumsum(player_hand), pl_bust, pl_win))\n",
    "        print(\"Dealer:\\t{} {}{}\".format(np.cumsum(dealer_hand), dl_bust, dl_win))\n",
    "        print(player_hand)\n",
    "        print(dealer_hand)\n",
    "    else:\n",
    "        # more detailed view, showing progression of cards from initial (visible) hands to final hands\n",
    "        print(\"Player:\\t{} >> {} >> {} {}{}\".format(player_hand[:2], player_hand, sum_hand(player_hand),\n",
    "                                                    pl_bust, pl_win))\n",
    "        print(\"Dealer:\\t{} >> {} >> {} {}{}\".format(dealer_hand[:1], dealer_hand, sum_hand(dealer_hand),\n",
    "                                                    dl_bust, dl_win))\n",
    "\n",
    "def show_step(player_hand_old, player_hand_new, dealer_hand,\n",
    "              s0, s1, a, Q0, Q1, r, d):\n",
    "    \"\"\" Give a detailed view of each step in a hand \"\"\"\n",
    "    # current state summary and action\n",
    "    print(\"\"\"-----------------------\n",
    "Player's old hand:\\t{} (={})\n",
    "Dealer's face-up card:\\t{}\n",
    "Player had useable:\\t{}\n",
    "Player action:\\t\\t{} ({})\"\"\".format(player_hand_old, s0[0], s0[1], s0[2], a, action_dict(a)))\n",
    "    \n",
    "    # effects of action\n",
    "    if player_hand_old != player_hand_new:\n",
    "        print(\"\"\"Player got card:\\t{}\"\"\".format(player_hand_new[-1]))\n",
    "        \n",
    "    # Dealer's eventual outcome\n",
    "    print(\"Dealer's hand:\\t{} (={})\".format(dealer_hand, sum_hand(dealer_hand)))\n",
    "    print(\"{}\\n{}\".format(s0, s1))\n",
    "    \n",
    "    print(\"r:{} | Done: {}\".format(r, d))\n",
    "    \n",
    "    # show two Q matrices separately\n",
    "    inspect_Q(Q0)\n",
    "    inspect_Q(Q1)\n",
    "    \n",
    "    # show the difference\n",
    "    Q_diff = Q1 - Q0\n",
    "    inspect_Q(Q_diff)\n",
    "\n",
    "def inspect_Q(Q_in):\n",
    "    \"\"\" Inspect the Q matrix as heatmaps\n",
    "    Split out each action's Q-values for all possible states\"\"\"\n",
    "        \n",
    "    # Heatmaps: Show side-by-side action Q-matrix, with two rows for each Usable Ace state\n",
    "    color_limits = np.max([abs(np.min(Q_in)), np.max(Q_in)])\n",
    "    i_labels = ['No useable ace', 'Useable ace']\n",
    "    j_labels = ['Stick', 'Hit', 'Double', 'Surrender', 'Invest'][:NUM_ACTIONS]\n",
    "    \n",
    "    # new row of plots for each of the binary states Ace / no Ace\n",
    "    for i in np.arange(0, len(i_labels)):    \n",
    "        plt.figure()\n",
    "        f, axes = plt.subplots(1,len(j_labels), sharex=False, sharey=False,\n",
    "                                          figsize=(12,6))\n",
    "        plt.title(i_labels[i])\n",
    "        # show Q values for each possible action, across all hand values x initial dealer card\n",
    "        for j in np.arange(0, len(j_labels)):\n",
    "            # show each heat map, adding color bar for the last plot only\n",
    "            showCbar = j == len(j_labels)-1\n",
    "            # obtain the relevant Q values - hiding non-used states (4- & 22+ for player / 0 for dealer)\n",
    "            g = sns.heatmap(Q_in[4:22,1:,i,j], cmap='seismic_r', cbar=showCbar,\n",
    "                            vmin = -color_limits, vmax = color_limits, center=0, ax=axes[j])\n",
    "            g.set_title(\"{}\\n - {} - \".format(j_labels[j], i_labels[i]))\n",
    "            g.set_xlabel('Dealer initial card')\n",
    "            # set agent hand value range of 4-21 inclusive, dealer 2-11 inclusive\n",
    "            g.set_yticklabels(np.arange(4,22), rotation=0)\n",
    "            g.set_xticklabels(np.arange(1,11), rotation=0)  # where Ace = 1 for now\n",
    "            # only show y label on first plot\n",
    "            if j == 0:\n",
    "                g.set_ylabel('Agent hand value')\n",
    "                \n",
    "        plt.show()"
   ]
  },
  {
   "cell_type": "markdown",
   "metadata": {},
   "source": [
    "We are almost ready to start training. All we have to do first is choose how long we want to train the agent for, how many games we are going to evaluate it over, and of course some hyper-parameter values. We will start with some parameter values which seem sensible, and move onto more robust experimentation in the following section. For this reason we will keep the number of training episodes and evaluation window fairly low for now."
   ]
  },
  {
   "cell_type": "code",
   "execution_count": 8,
   "metadata": {},
   "outputs": [],
   "source": [
    "### Set scope of training and evaluation\n",
    "# number of episodes to train agent over\n",
    "NUM_EPISODES_TRAIN = 15000           \n",
    "\n",
    "# evaluate agent with mean rewards over last (N) episodes\n",
    "EVAL_LAST_N_EPS = 3000                 \n",
    "\n",
    "### Set verbosity level\n",
    "# 0: nothing\n",
    "# 1: validation metrics only\n",
    "# 2: validation, perf-vs-episodes, last 5 games\n",
    "# 3: inspect Q-matrix update 1/5 of way into training\n",
    "VERBOSE =2"
   ]
  },
  {
   "cell_type": "code",
   "execution_count": 9,
   "metadata": {},
   "outputs": [],
   "source": [
    "# Set hyper-parameters: grid format will be beneficial when we optimize these \n",
    "grid = ParameterGrid({\"dbl_Q\" : [0],                # 1 to use Double Q learning\n",
    "                          \"lr\": [0.01],             # learning rate\n",
    "                          \"y\": [0.25],              # gamma\n",
    "                          \"policy\": \"b\",            # \"e\" for e-greedy, \"b\" for boltzmann\n",
    "                          \"policy_param\":  [1],     # epsilon / tau (inverse temperature)\n",
    "                          \"num_episodes\": [NUM_EPISODES_TRAIN],\n",
    "                          \"cb_over_num_eps\": [EVAL_LAST_N_EPS],\n",
    "                          \"verbose\": [VERBOSE]})"
   ]
  },
  {
   "cell_type": "markdown",
   "metadata": {},
   "source": [
    "Finally, we can start training an agent in the next block, wrapping the learning process, evaluation & record management into a function we can call again later. This should complete in less than 5 seconds - quite impressive for 15000 games!"
   ]
  },
  {
   "cell_type": "code",
   "execution_count": 10,
   "metadata": {},
   "outputs": [],
   "source": [
    "def train_agent(p_idx, params, exportMe=True, eval_metrics=[]):\n",
    "    # confirm parameters used for training\n",
    "    agent_summary = (params['dbl_Q'], params['lr'], params['y'],\n",
    "                     params['policy'], params['policy_param'])\n",
    "    print(\"---------------------------\\nNow training agent {}/{}\".format(p_idx+1, grid_size))\n",
    "    print(\"DblQ: %.2f | LR: %.3f | g: %.3f | pol: %s | pol_param: %.5f\" % agent_summary)\n",
    "    \n",
    "    # train agent using current parameters\n",
    "    start_time = time.time()\n",
    "    Q, rList, Q_CB, lastCB_ep = playGame(Q_a=None, Q_b=None, **params)\n",
    "    end_time = time.time()\n",
    "    time_elapsed = end_time - start_time  # time difference in seconds\n",
    "    games_per_sec = NUM_EPISODES_TRAIN / time_elapsed \n",
    "    print(\"...completed in %.1f seconds @ %.1f games per second\" % (time_elapsed,\n",
    "                                                                    games_per_sec))\n",
    "    \n",
    "    # calculate evaluation metrics\n",
    "    eval_final = meanR_lastN(rList, n=EVAL_LAST_N_EPS)\n",
    "    eval_cb = meanR_lastN(rList[:lastCB_ep], n=EVAL_LAST_N_EPS)\n",
    "    \n",
    "    # calculate the success rate metrics\n",
    "    show_success_ts_plot = VERBOSE > 1\n",
    "    ts_success_final, eval_final_success = calc_success_rate2(rList, eval_last_n=EVAL_LAST_N_EPS,\n",
    "                                                             produce_ts = show_success_ts_plot,\n",
    "                                                             title_add=\" (final agent)\")\n",
    "    ts_success_cb, eval_cb_success = calc_success_rate2(rList[:lastCB_ep], eval_last_n=EVAL_LAST_N_EPS,\n",
    "                                                              produce_ts = show_success_ts_plot,\n",
    "                                                              title_add=\" (CB agent)\")\n",
    "\n",
    "    if VERBOSE>-1:\n",
    "        print(\"---------------------------\\nValidation metrics\\n---------------------------\")\n",
    "        print(\"After final episode, mean reward of {} over last {} episodes --> success rate: {}\".format(eval_final, EVAL_LAST_N_EPS, eval_final_success))\n",
    "        print(\"After episode {}, mean reward of {} over last {} episodes --> success rate: {}\".format(lastCB_ep, eval_cb, EVAL_LAST_N_EPS, eval_cb_success))\n",
    "    \n",
    "    # Pickle Q matrices for later use\n",
    "    name_fi = \"\"\n",
    "    name_cb = \"\"\n",
    "    if exportMe:\n",
    "        print(\"---------------------------\\nPickling agents\")\n",
    "        # pickle the final agent\n",
    "        export_name = 'Qmatrix_expID_{}_Fi_DblQ{}_lr{}_g{}_pol{}_polparam{}.p'.format(p_idx, params['dbl_Q'], params['lr'],\n",
    "                                                                    params['y'], params['policy'], params['policy_param'])\n",
    "        name_fi = Q_DATA_DIR + export_name\n",
    "        pickle.dump(Q , open(name_fi, \"wb\" ) )\n",
    "\n",
    "        # Pickle the call back too, referencing the call-back episode in filename\n",
    "        export_name_cb = 'Qmatrix_expID_{}_CB{}_DblQ{}_lr{}_g{}_pol{}_polparam{}.p'.format(p_idx, lastCB_ep,\n",
    "                                                                                  params['dbl_Q'], params['lr'],\n",
    "                                                                                  params['y'], params['policy'], params['policy_param'])\n",
    "        name_cb = Q_DATA_DIR + export_name_cb \n",
    "        pickle.dump(Q_CB, open(name_cb, \"wb\" ) )\n",
    "\n",
    "        # pickle the rLists using for later analysis (same filenames but different folder)\n",
    "        pickle.dump(rList , open(RLIST_DATA_DIR + export_name, \"wb\" ) )\n",
    "        pickle.dump(rList[:lastCB_ep], open(RLIST_DATA_DIR + export_name_cb, \"wb\" ) )\n",
    "\n",
    "        # form Vector of validation metrics, for both final agent and call-back agent\n",
    "        eval_vec_fi = [name_fi, params['dbl_Q'], params['lr'], params['y'],\n",
    "                       params['policy'], params['policy_param'],\n",
    "                       params['num_episodes'], params['cb_over_num_eps'],\n",
    "                       0, eval_final, eval_final_success]\n",
    "        eval_vec_cb = [name_cb, params['dbl_Q'], params['lr'], params['y'],\n",
    "                       params['policy'], params['policy_param'],\n",
    "                       params['num_episodes'], params['cb_over_num_eps'],\n",
    "                       lastCB_ep, eval_cb, eval_cb_success]\n",
    "        eval_metrics.append(eval_vec_fi)\n",
    "        eval_metrics.append(eval_vec_cb)\n",
    "        \n",
    "    # return metrics and filepaths for stored Q matrices\n",
    "    return eval_metrics, name_fi, name_cb"
   ]
  },
  {
   "cell_type": "markdown",
   "metadata": {},
   "source": [
    "As shown in the graph detailing performance vs episodes, the agent has clearly learned a strategy around 6000 games in which is several times better than the actions it was taking initially. This means the Q-learning process is working, and we are ready to move on to longer training sessions."
   ]
  },
  {
   "cell_type": "code",
   "execution_count": 14,
   "metadata": {},
   "outputs": [
    {
     "name": "stdout",
     "output_type": "stream",
     "text": [
      "---------------------------\n",
      "Now training agent 1/1\n",
      "DblQ: 0.00 | LR: 0.010 | g: 0.250 | pol: b | pol_param: 1.00000\n",
      "Ep: 0\tMean reward over last 3000 episodes: -1.0. (b-policy @ 1.00059)\n",
      "Ep: 3000\tMean reward over last 3000 episodes: -0.518. (b-policy @ 5.85148)\n",
      "Ep: 6000\tMean reward over last 3000 episodes: -0.24666666666666667. (b-policy @ 34.21966)\n",
      "Ep: 9000\tMean reward over last 3000 episodes: -0.102. (b-policy @ 200.0)\n",
      "Ep: 12000\tMean reward over last 3000 episodes: -0.09866666666666667. (b-policy @ 200.0)\n",
      "--- SUMMARY OF EP #14995 ---\n",
      "Player:\t[ 5 11 14] \n",
      "Dealer:\t[ 3  4  5 15 21] !!!\n",
      "[5, 6, 3]\n",
      "[3, 1, 1, 10, 6]\n",
      "--- SUMMARY OF EP #14996 ---\n",
      "Player:\t[ 5 15 19] \n",
      "Dealer:\t[10 21] !!!\n",
      "[5, 10, 4]\n",
      "[10, 11]\n",
      "--- SUMMARY OF EP #14997 ---\n",
      "Player:\t[ 1  6 12] \n",
      "Dealer:\t[ 2 12 14 17] !!!\n",
      "[1, 5, 6]\n",
      "[2, 10, 2, 3]\n",
      "--- SUMMARY OF EP #14998 ---\n",
      "Player:\t[ 7 17] \n",
      "Dealer:\t[ 4 14 15 21] !!!\n",
      "[7, 10]\n",
      "[4, 10, 1, 6]\n",
      "--- SUMMARY OF EP #14999 ---\n",
      "Player:\t[ 2 11 19] !!!\n",
      "Dealer:\t[10 18] \n",
      "[2, 9, 8]\n",
      "[10, 8]\n"
     ]
    },
    {
     "data": {
      "image/png": "[encoded data removed]",
      "text/plain": [
       "<Figure size 864x288 with 1 Axes>"
      ]
     },
     "metadata": {
      "needs_background": "light"
     },
     "output_type": "display_data"
    },
    {
     "name": "stdout",
     "output_type": "stream",
     "text": [
      "...completed in 4.9 seconds @ 3042.6 games per second\n"
     ]
    },
    {
     "data": {
      "image/png": "[encoded data removed]",
      "text/plain": [
       "<Figure size 432x288 with 1 Axes>"
      ]
     },
     "metadata": {
      "needs_background": "light"
     },
     "output_type": "display_data"
    },
    {
     "data": {
      "image/png": "[encoded data removed]",
      "text/plain": [
       "<Figure size 432x288 with 1 Axes>"
      ]
     },
     "metadata": {
      "needs_background": "light"
     },
     "output_type": "display_data"
    },
    {
     "name": "stdout",
     "output_type": "stream",
     "text": [
      "---------------------------\n",
      "Validation metrics\n",
      "---------------------------\n",
      "After final episode, mean reward of -0.12966666666666668 over last 3000 episodes --> success rate: 0.40350155690029965\n",
      "After episode 11218, mean reward of -0.086 over last 3000 episodes --> success rate: 0.3910605944243914\n"
     ]
    }
   ],
   "source": [
    "# just one set of parameters to go through at this stage\n",
    "grid_size = len(grid)\n",
    "all_eval_metrics, _, _ = train_agent(0, grid[0], False)"
   ]
  },
  {
   "cell_type": "markdown",
   "metadata": {},
   "source": [
    "### 5) Optimization : training with grid search\n",
    "\n",
    "Now that we know the Q-learning process is working, we can expand the grid search and simply-reuse our earlier functions to optimize learning. We will keep the grid fairly small so that this notebook does not get too large. (The first time I performed the grid search was with a much larger grid in Spyder, which I prefer for larger tasks.)\n",
    "\n",
    "We will alo raise the number of episodes to train and evaluate over, so that we can get more robust estimations of performance. If we were carrying out analysis in Spyder we should raise the numbers even higher.\n",
    "\n",
    "At this point it is also useful to reduce verbosity to just validation metrics. We will split this into two chunks to reduce risk of any errors / crashes, with the first chunk using only the Boltzmann policy and the second only an e-greedy policy.\n",
    "\n",
    "<div class=\"alert alert-block alert-danger\" align=\"center\"><b>Warning:</b> The next two blocks could take up to an hour to complete and may be difficult to interrupt! </div>"
   ]
  },
  {
   "cell_type": "code",
   "execution_count": 11,
   "metadata": {},
   "outputs": [],
   "source": [
    "# number of episodes to train agent over\n",
    "NUM_EPISODES_TRAIN = 125000\n",
    "\n",
    "# evaluate agent with mean rewards over last (N) episodes\n",
    "EVAL_LAST_N_EPS = 25000 "
   ]
  },
  {
   "cell_type": "code",
   "execution_count": 16,
   "metadata": {
    "scrolled": true
   },
   "outputs": [
    {
     "name": "stdout",
     "output_type": "stream",
     "text": [
      "---------------------------\n",
      "Now training agent 1/8\n",
      "DblQ: 0.00 | LR: 0.010 | g: 0.250 | pol: b | pol_param: 1.00000\n",
      "...completed in 205.7 seconds @ 607.8 games per second\n",
      "---------------------------\n",
      "Validation metrics\n",
      "---------------------------\n",
      "After final episode, mean reward of -0.04804 over last 25000 episodes --> success rate: 0.43981572093163307\n",
      "After episode 124587, mean reward of -0.04612 over last 25000 episodes --> success rate: 0.43968016671196886\n",
      "---------------------------\n",
      "Pickling agents\n",
      "---------------------------\n",
      "Now training agent 2/8\n",
      "DblQ: 0.00 | LR: 0.010 | g: 0.500 | pol: b | pol_param: 1.00000\n",
      "...completed in 249.5 seconds @ 500.9 games per second\n",
      "---------------------------\n",
      "Validation metrics\n",
      "---------------------------\n",
      "After final episode, mean reward of -0.06796 over last 25000 episodes --> success rate: 0.43448932326995\n",
      "After episode 96804, mean reward of -0.05664 over last 25000 episodes --> success rate: 0.42702851084775284\n",
      "---------------------------\n",
      "Pickling agents\n",
      "---------------------------\n",
      "Now training agent 3/8\n",
      "DblQ: 0.00 | LR: 0.001 | g: 0.250 | pol: b | pol_param: 1.00000\n",
      "...completed in 203.3 seconds @ 614.8 games per second\n",
      "---------------------------\n",
      "Validation metrics\n",
      "---------------------------\n",
      "After final episode, mean reward of -0.09992 over last 25000 episodes --> success rate: 0.402377038468681\n",
      "After episode 113202, mean reward of -0.0788 over last 25000 episodes --> success rate: 0.39751755056911553\n",
      "---------------------------\n",
      "Pickling agents\n",
      "---------------------------\n",
      "Now training agent 4/8\n",
      "DblQ: 0.00 | LR: 0.001 | g: 0.500 | pol: b | pol_param: 1.00000\n",
      "...completed in 222.8 seconds @ 560.9 games per second\n",
      "---------------------------\n",
      "Validation metrics\n",
      "---------------------------\n",
      "After final episode, mean reward of -0.10576 over last 25000 episodes --> success rate: 0.4003383257003755\n",
      "After episode 89081, mean reward of -0.09832 over last 25000 episodes --> success rate: 0.38112545074966786\n",
      "---------------------------\n",
      "Pickling agents\n",
      "---------------------------\n",
      "Now training agent 5/8\n",
      "DblQ: 1.00 | LR: 0.010 | g: 0.250 | pol: b | pol_param: 1.00000\n",
      "...completed in 194.9 seconds @ 641.4 games per second\n",
      "---------------------------\n",
      "Validation metrics\n",
      "---------------------------\n",
      "After final episode, mean reward of -0.0384 over last 25000 episodes --> success rate: 0.4315202231520223\n",
      "After episode 123880, mean reward of -0.03676 over last 25000 episodes --> success rate: 0.4311670626198036\n",
      "---------------------------\n",
      "Pickling agents\n",
      "---------------------------\n",
      "Now training agent 6/8\n",
      "DblQ: 1.00 | LR: 0.010 | g: 0.500 | pol: b | pol_param: 1.00000\n",
      "...completed in 202.6 seconds @ 617.0 games per second\n",
      "---------------------------\n",
      "Validation metrics\n",
      "---------------------------\n",
      "After final episode, mean reward of -0.07468 over last 25000 episodes --> success rate: 0.4285080252033585\n",
      "After episode 83450, mean reward of -0.06404 over last 25000 episodes --> success rate: 0.412668859950704\n",
      "---------------------------\n",
      "Pickling agents\n",
      "---------------------------\n",
      "Now training agent 7/8\n",
      "DblQ: 1.00 | LR: 0.001 | g: 0.250 | pol: b | pol_param: 1.00000\n",
      "...completed in 207.7 seconds @ 601.9 games per second\n",
      "---------------------------\n",
      "Validation metrics\n",
      "---------------------------\n",
      "After final episode, mean reward of -0.11724 over last 25000 episodes --> success rate: 0.3908978021456053\n",
      "After episode 100261, mean reward of -0.1034 over last 25000 episodes --> success rate: 0.3776425931977577\n",
      "---------------------------\n",
      "Pickling agents\n",
      "---------------------------\n",
      "Now training agent 8/8\n",
      "DblQ: 1.00 | LR: 0.001 | g: 0.500 | pol: b | pol_param: 1.00000\n",
      "...completed in 208.7 seconds @ 599.0 games per second\n",
      "---------------------------\n",
      "Validation metrics\n",
      "---------------------------\n",
      "After final episode, mean reward of -0.11272 over last 25000 episodes --> success rate: 0.3933886536833192\n",
      "After episode 96489, mean reward of -0.09004 over last 25000 episodes --> success rate: 0.37835128174102434\n",
      "---------------------------\n",
      "Pickling agents\n"
     ]
    }
   ],
   "source": [
    "### BOLTZMANN AGENTS\n",
    "# reduce verbosity level - feedback validation metrics only\n",
    "VERBOSE = 0\n",
    "\n",
    "# Create a grid of hyper parameters to search over\n",
    "grid = ParameterGrid({\"dbl_Q\" : [0, 1],                 # 1 to use Double Q learning\n",
    "                          \"lr\": [0.01, 0.001],          # learning rate\n",
    "                          \"y\": [0.25, 0.5],             # gamma\n",
    "                          \"policy\": [\"b\"],              # \"e\" for e-greedy, \"b\" for boltzmann\n",
    "                          \"policy_param\":  [1],         # tau (inverse temperature)\n",
    "                          \"num_episodes\": [NUM_EPISODES_TRAIN],\n",
    "                          \"cb_over_num_eps\": [EVAL_LAST_N_EPS],\n",
    "                          \"verbose\": [VERBOSE]})\n",
    "grid_size = len(grid)\n",
    "\n",
    "# create a new array to store evaluation metrics for all agents\n",
    "# we pass this to the function so that it can append a new row\n",
    "# on each iteration\n",
    "all_eval_metrics = []\n",
    "for p_idx, params in enumerate(grid):\n",
    "    all_eval_metrics, _, _ = train_agent(p_idx, params, True, all_eval_metrics)"
   ]
  },
  {
   "cell_type": "code",
   "execution_count": 17,
   "metadata": {
    "scrolled": true
   },
   "outputs": [
    {
     "name": "stdout",
     "output_type": "stream",
     "text": [
      "---------------------------\n",
      "Now training agent 1/8\n",
      "DblQ: 0.00 | LR: 0.010 | g: 0.250 | pol: e | pol_param: 0.60000\n",
      "...completed in 186.9 seconds @ 668.9 games per second\n",
      "---------------------------\n",
      "Validation metrics\n",
      "---------------------------\n",
      "After final episode, mean reward of -0.0696 over last 25000 episodes --> success rate: 0.43433475077140354\n",
      "After episode 109355, mean reward of -0.05652 over last 25000 episodes --> success rate: 0.4310176975765794\n",
      "---------------------------\n",
      "Pickling agents\n",
      "---------------------------\n",
      "Now training agent 2/8\n",
      "DblQ: 0.00 | LR: 0.010 | g: 0.500 | pol: e | pol_param: 0.60000\n",
      "...completed in 240.9 seconds @ 518.8 games per second\n",
      "---------------------------\n",
      "Validation metrics\n",
      "---------------------------\n",
      "After final episode, mean reward of -0.0562 over last 25000 episodes --> success rate: 0.43257759290579145\n",
      "After episode 123462, mean reward of -0.05072 over last 25000 episodes --> success rate: 0.43242618504592245\n",
      "---------------------------\n",
      "Pickling agents\n",
      "---------------------------\n",
      "Now training agent 3/8\n",
      "DblQ: 0.00 | LR: 0.001 | g: 0.250 | pol: e | pol_param: 0.60000\n",
      "...completed in 220.4 seconds @ 567.2 games per second\n",
      "---------------------------\n",
      "Validation metrics\n",
      "---------------------------\n",
      "After final episode, mean reward of -0.10372 over last 25000 episodes --> success rate: 0.4213052583098855\n",
      "After episode 123714, mean reward of -0.09808 over last 25000 episodes --> success rate: 0.42131961250281613\n",
      "---------------------------\n",
      "Pickling agents\n",
      "---------------------------\n",
      "Now training agent 4/8\n",
      "DblQ: 0.00 | LR: 0.001 | g: 0.500 | pol: e | pol_param: 0.60000\n",
      "...completed in 197.6 seconds @ 632.7 games per second\n",
      "---------------------------\n",
      "Validation metrics\n",
      "---------------------------\n",
      "After final episode, mean reward of -0.10844 over last 25000 episodes --> success rate: 0.42512039156864295\n",
      "After episode 77635, mean reward of -0.10696 over last 25000 episodes --> success rate: 0.4134883033959349\n",
      "---------------------------\n",
      "Pickling agents\n",
      "---------------------------\n",
      "Now training agent 5/8\n",
      "DblQ: 1.00 | LR: 0.010 | g: 0.250 | pol: e | pol_param: 0.60000\n",
      "...completed in 192.4 seconds @ 649.7 games per second\n",
      "---------------------------\n",
      "Validation metrics\n",
      "---------------------------\n",
      "After final episode, mean reward of -0.06388 over last 25000 episodes --> success rate: 0.43642122761956825\n",
      "After episode 119698, mean reward of -0.0576 over last 25000 episodes --> success rate: 0.4354099434076984\n",
      "---------------------------\n",
      "Pickling agents\n",
      "---------------------------\n",
      "Now training agent 6/8\n",
      "DblQ: 1.00 | LR: 0.010 | g: 0.500 | pol: e | pol_param: 0.60000\n",
      "...completed in 196.2 seconds @ 637.2 games per second\n",
      "---------------------------\n",
      "Validation metrics\n",
      "---------------------------\n",
      "After final episode, mean reward of -0.08044 over last 25000 episodes --> success rate: 0.43233308828443495\n",
      "After episode 124506, mean reward of -0.0784 over last 25000 episodes --> success rate: 0.43229624770792646\n",
      "---------------------------\n",
      "Pickling agents\n",
      "---------------------------\n",
      "Now training agent 7/8\n",
      "DblQ: 1.00 | LR: 0.001 | g: 0.250 | pol: e | pol_param: 0.60000\n",
      "...completed in 162.7 seconds @ 768.1 games per second\n",
      "---------------------------\n",
      "Validation metrics\n",
      "---------------------------\n",
      "After final episode, mean reward of -0.12596 over last 25000 episodes --> success rate: 0.41731130033193825\n",
      "After episode 117745, mean reward of -0.10852 over last 25000 episodes --> success rate: 0.4164052817601787\n",
      "---------------------------\n",
      "Pickling agents\n",
      "---------------------------\n",
      "Now training agent 8/8\n",
      "DblQ: 1.00 | LR: 0.001 | g: 0.500 | pol: e | pol_param: 0.60000\n",
      "...completed in 162.4 seconds @ 769.6 games per second\n",
      "---------------------------\n",
      "Validation metrics\n",
      "---------------------------\n",
      "After final episode, mean reward of -0.12672 over last 25000 episodes --> success rate: 0.41597905713727845\n",
      "After episode 108929, mean reward of -0.11596 over last 25000 episodes --> success rate: 0.41284169011295474\n",
      "---------------------------\n",
      "Pickling agents\n"
     ]
    }
   ],
   "source": [
    "### E-GREEDY AGENTS\n",
    "# Create a grid of hyper parameters to search over\n",
    "grid = ParameterGrid({\"dbl_Q\" : [0, 1],                 # 1 to use Double Q learning\n",
    "                          \"lr\": [0.01, 0.001],          # learning rate\n",
    "                          \"y\": [0.25, 0.5],             # gamma\n",
    "                          \"policy\": [\"e\"],              # \"e\" for e-greedy, \"b\" for boltzmann ## MODIFIED ##\n",
    "                          \"policy_param\":  [0.6],       # epsilon ## MODIFIED ##\n",
    "                          \"num_episodes\": [NUM_EPISODES_TRAIN],\n",
    "                          \"cb_over_num_eps\": [EVAL_LAST_N_EPS],\n",
    "                          \"verbose\": [VERBOSE]})\n",
    "grid_size = len(grid)\n",
    "\n",
    "# pass the same evaluation metric array\n",
    "for p_idx, params in enumerate(grid):\n",
    "    all_eval_metrics, _, _ = train_agent(p_idx, params, True, all_eval_metrics)"
   ]
  },
  {
   "cell_type": "markdown",
   "metadata": {},
   "source": [
    "We can now summarise the results for all our trained agents and export to a CSV.\n",
    "\n",
    "<font color=\"red\">Studying the results, we see that ... (better params etc)</font>"
   ]
  },
  {
   "cell_type": "code",
   "execution_count": 18,
   "metadata": {},
   "outputs": [
    {
     "name": "stdout",
     "output_type": "stream",
     "text": [
      "Exported results to validation_results/results.csv\n"
     ]
    }
   ],
   "source": [
    "# define column names and form a dataframe of results\n",
    "# we order by the evaluation metric MeanR_lastN and show top 5\n",
    "col_names = ['agent_filepath', 'DoubleQ', 'lr', 'y', 'policy', 'pol_param', 'num_episodes',\n",
    "             'cb_over_num_episodes', 'cb_creation_idx', 'meanR_lastN', 'success_rate_lastN']\n",
    "\n",
    "eval_df = pd.DataFrame(data=np.array(all_eval_metrics), columns=col_names) \\\n",
    "            .sort_values(by='meanR_lastN', ascending=True) \\\n",
    "            .reset_index().drop('index', 1)\n",
    "eval_df.head(5)\n",
    "\n",
    "# export to csv\n",
    "filename = 'validation_results/results.csv'\n",
    "eval_df.to_csv(filename)\n",
    "print(\"Exported results to {}\".format(filename))"
   ]
  },
  {
   "cell_type": "markdown",
   "metadata": {},
   "source": [
    "### 6. Comparison against human strategy\n",
    "\n",
    "Unsurprisingly, none of our agents discovered a way to make money out of Blackjack in the long-run. We know this since their average reward per game maxes out around <font color=\"red\">-0.04</font>. In other words, if the best agent started with £100, then after 100 games at £1 per play they would likely leave with only <font color=\"red\">£96</font>.\n",
    "\n",
    "An interesting comparison we can make is whether this <font color=\"red\">£96</font> retained is better than what a human could achieve. This is a little difficult to calculate since our version of Blackjack is non-standard and excludes the \"split\" option, which can be helpful in hedging bets. That said, <a href=\"https://www.blackjackapprenticeship.com/blackjack-strategy-charts/\" target=\"_blank\">BlackjackApprenticeship.com</a> offers advice for non-splitting scenarios, which appears to be a sensible set of instructions we can use in our version of the game.\n",
    "\n",
    "We have encoded the advice into matrices held in csv format, visualised below:\n"
   ]
  },
  {
   "cell_type": "code",
   "execution_count": 12,
   "metadata": {},
   "outputs": [
    {
     "data": {
      "image/png": "[encoded data removed]",
      "text/plain": [
       "<Figure size 864x432 with 2 Axes>"
      ]
     },
     "metadata": {
      "needs_background": "light"
     },
     "output_type": "display_data"
    },
    {
     "name": "stdout",
     "output_type": "stream",
     "text": [
      "Legend:\n",
      "S = Stick || H = Hit || D = Double  || Initial card 1 = Ace\n"
     ]
    }
   ],
   "source": [
    "def action_dict(a, short=False):\n",
    "    \"\"\" Return the initial letter or name of action given an action index\"\"\"\n",
    "    if short:\n",
    "        lookup = {0: \"S\", 1: \"H\", 2: \"D\", 3: \"U\", 4: \"I\"}\n",
    "    else:\n",
    "        lookup = {0: \"Stick\", 1: \"Hit\", 2: \"Double\", 3: \"Surrender\", 4: \"Invest\"}\n",
    "    return lookup[a]\n",
    "\n",
    "def make_adviceChart(Q_in, add_title='', smeChart=False):\n",
    "    \"\"\" Find the argmax for each value of Q matrix along the action dimension\n",
    "        Convert each to the name label of the action & color code \n",
    "        This acts as an easy 'advice chart' to support understanding \n",
    "        \n",
    "        smeChart = flag indicating this chart conveys Subject Matter Experise\n",
    "                   e.g. uses a human strategy rather than AI strategy\"\"\"\n",
    "    # take top-expectation action per state\n",
    "    if not(smeChart):\n",
    "        Qa_max = np.argmax(Q_in, axis=-1)\n",
    "        \n",
    "    # split into no usable ace / useable ace states\n",
    "    f, axes = plt.subplots(1,2, sharex=False, sharey=False,\n",
    "                                      figsize=(12,6))\n",
    "    plt.title('Advised action chart per state')\n",
    "    j_labels = ['No usable Ace', 'Usable Ace']\n",
    "    for j in [0,1]:\n",
    "        # load human advice charts rather than Q matrix if requested\n",
    "        if ((smeChart) & (j==0)):\n",
    "            Qa_max = np.array(pd.read_csv('additional_analysis/sme_advice_noUseableAce.csv'))\n",
    "            Qa_maxJ = Qa_max[4:,:]\n",
    "        elif ((smeChart) & (j==1)):\n",
    "            Qa_max = np.array(pd.read_csv('additional_analysis/sme_advice_UseableAce.csv'))\n",
    "            Qa_maxJ = Qa_max[4:,:]\n",
    "        else:\n",
    "            Qa_maxJ = Qa_max[4:22,1:,j]\n",
    "            \n",
    "        # convert action IDs to labels\n",
    "        Qa_maxJ_label = np.chararray((Qa_maxJ.shape[0], Qa_maxJ.shape[1]), unicode=True)\n",
    "        for x in np.arange(0, Qa_maxJ.shape[0]):\n",
    "            for y in np.arange(0, Qa_maxJ.shape[1]):\n",
    "                # for invalid values label as \"-\"\n",
    "                if ((j==1) & (x<=7)):\n",
    "                    Qa_maxJ_label[x,y] = \"-\"                                        \n",
    "                else:\n",
    "                    Qa_maxJ_label[x,y] = action_dict(Qa_maxJ[x,y], short=True)\n",
    "\n",
    "        # obtain the relevant Q values - hiding non-used states (4- & 22+ for player / 0 for dealer)\n",
    "        g = sns.heatmap(Qa_maxJ, cmap='Reds', annot=Qa_maxJ_label, fmt ='',\n",
    "                        cbar=False, ax=axes[j], vmin=0, vmax=5)\n",
    "        g.set_title(\"{}{}\".format(j_labels[j], add_title))\n",
    "        g.set_xlabel('Dealer initial card')\n",
    "        # set agent hand value range of 4-21 inclusive, dealer 2-11 inclusive\n",
    "        g.set_yticklabels(np.arange(4,22), rotation=0)\n",
    "        g.set_xticklabels(np.arange(1,11), rotation=0)  # where Ace = 1 for now\n",
    "        # only show y label on first plot\n",
    "        if j == 0:\n",
    "            g.set_ylabel('Player hand value')\n",
    "    plt.show()\n",
    "\n",
    "    # legend to remind what the possible actions are\n",
    "    print(\"Legend:\\nS = Stick || H = Hit || D = Double  || Initial card 1 = Ace\")\n",
    "    \n",
    "make_adviceChart(Q_in = None, add_title='\\nHuman strategy', smeChart=True)"
   ]
  },
  {
   "cell_type": "markdown",
   "metadata": {},
   "source": [
    "Now that we have visualised the human strategy, we will form a 3D matrix aligned to the format of the Q-matrices that our agents were using. Rather than storing estimated values, however, it will simply store the ID of the action to take for any given state. This will help us insert the static strategy into the environment with minimal code changes required."
   ]
  },
  {
   "cell_type": "code",
   "execution_count": 13,
   "metadata": {},
   "outputs": [],
   "source": [
    "# load files and stack into a 3D array\n",
    "Qh_no_ace = np.array(pd.read_csv('additional_analysis/sme_advice_noUseableAce.csv'))\n",
    "Qh_ace = np.array(pd.read_csv('additional_analysis/sme_advice_UseableAce.csv'))\n",
    "Qh = np.dstack([Qh_no_ace, Qh_ace])"
   ]
  },
  {
   "cell_type": "markdown",
   "metadata": {},
   "source": [
    "Now we can simulate a large number of games and calculate the average reward and success rate for this human strategy. Since the strategy is fixed and no learning is occurring, we do not need to play the full number of games that the agents played. We must however ensure the strategy is evaluated over the same number of simulations: 25,000.\n",
    "\n",
    "To get a better estimate of these evaluation metrics, we will perform the each round of games 400 times and take the average."
   ]
  },
  {
   "cell_type": "code",
   "execution_count": 14,
   "metadata": {},
   "outputs": [
    {
     "data": {
      "image/png": "[encoded data removed]",
      "text/plain": [
       "<Figure size 864x288 with 1 Axes>"
      ]
     },
     "metadata": {
      "needs_background": "light"
     },
     "output_type": "display_data"
    },
    {
     "name": "stdout",
     "output_type": "stream",
     "text": [
      "Round 0. Mean rewards of -0.03128 over 25000 games --> success rate: 0.48465\n",
      "Round 25. Mean rewards of -0.02188 over 25000 games --> success rate: 0.48923\n",
      "Round 50. Mean rewards of -0.03808 over 25000 games --> success rate: 0.48140\n",
      "Round 75. Mean rewards of -0.02760 over 25000 games --> success rate: 0.48645\n",
      "Round 100. Mean rewards of -0.03668 over 25000 games --> success rate: 0.48194\n",
      "Round 125. Mean rewards of -0.03288 over 25000 games --> success rate: 0.48380\n",
      "Round 150. Mean rewards of -0.03672 over 25000 games --> success rate: 0.48190\n",
      "Round 175. Mean rewards of -0.02680 over 25000 games --> success rate: 0.48685\n",
      "Round 200. Mean rewards of -0.02620 over 25000 games --> success rate: 0.48710\n",
      "Round 225. Mean rewards of -0.02724 over 25000 games --> success rate: 0.48664\n",
      "Round 250. Mean rewards of -0.03644 over 25000 games --> success rate: 0.48211\n",
      "Round 275. Mean rewards of -0.03720 over 25000 games --> success rate: 0.48174\n",
      "Round 300. Mean rewards of -0.03040 over 25000 games --> success rate: 0.48509\n",
      "Round 325. Mean rewards of -0.02648 over 25000 games --> success rate: 0.48701\n",
      "Round 350. Mean rewards of -0.03452 over 25000 games --> success rate: 0.48305\n",
      "Round 375. Mean rewards of -0.03688 over 25000 games --> success rate: 0.48187\n"
     ]
    }
   ],
   "source": [
    "num_simulation_rounds = 400\n",
    "list_meanR = []\n",
    "list_success = []\n",
    "for t in np.arange(0, num_simulation_rounds):\n",
    "    #create list to contain total rewards and steps per episode\n",
    "    rList = []\n",
    "    for i in range(EVAL_LAST_N_EPS):\n",
    "        #Reset environment and get first new observation\n",
    "        s = env.reset()\n",
    "        rAll = 0\n",
    "        d = False\n",
    "        j = 0\n",
    "\n",
    "        # game will not exceed 20 moves, limit while loop out of caution\n",
    "        while j < 20:\n",
    "            j+=1\n",
    "\n",
    "            # choose action per fixed strategy\n",
    "            # need to adjust the indices slightly for true alignment\n",
    "            a = Qh[s[0], s[1]-1, s[2]]\n",
    "\n",
    "            #Get new state and reward from environment\n",
    "            player_hand_old = env.player.copy()\n",
    "            s1,r,d,_ = env.step(a)\n",
    "\n",
    "            # update rewards and state\n",
    "            rAll += r\n",
    "            s = s1\n",
    "\n",
    "            # end game when a winner/loser found\n",
    "            if d == True:            \n",
    "                # For each of the final 5 episodes, show the game for inspection\n",
    "                if ((i >= (NUM_EPISODES_TRAIN-5)) & (t==0)):\n",
    "                    show_ep(env.player, env.dealer, r, i)\n",
    "                break\n",
    "\n",
    "        # append reward to list\n",
    "        rList.append(rAll)\n",
    "\n",
    "    # show overall success history of fixed strategy for first simulation round\n",
    "    if t == 0:\n",
    "        plt.figure(figsize=(12,4))\n",
    "        plt.plot(np.cumsum(rList))\n",
    "        plt.title('Performance vs. episodes (Human strategy - first simulation round)')\n",
    "        plt.ylabel('Total Returns')\n",
    "        plt.xlabel('Episode number')\n",
    "        plt.show()\n",
    "\n",
    "    meanR = meanR_lastN(rList, EVAL_LAST_N_EPS)\n",
    "    ts_success, mean_success_rate = calc_success_rate2(rList, produce_ts=False)\n",
    "    \n",
    "    if t % 25 == 0:\n",
    "        print(\"Round %i. Mean rewards of %.5f over %i games --> success rate: %.5f\" % (t, meanR,\n",
    "                                                                          EVAL_LAST_N_EPS,\n",
    "                                                                          mean_success_rate))\n",
    "    # add new metrics to running lists\n",
    "    list_meanR.append(meanR)\n",
    "    list_success.append(mean_success_rate)"
   ]
  },
  {
   "cell_type": "code",
   "execution_count": 15,
   "metadata": {},
   "outputs": [
    {
     "name": "stdout",
     "output_type": "stream",
     "text": [
      "FINAL EVALUATION METRICS FOR HUMAN STRATEGY:\n",
      "Mean of mean rewards: -0.03349\n",
      "Expected value of £100 after 100 games: £96.65\n",
      "Mean of success rates: 0.48357\n"
     ]
    },
    {
     "data": {
      "image/png": "[encoded data removed]",
      "text/plain": [
       "<Figure size 432x288 with 2 Axes>"
      ]
     },
     "metadata": {
      "needs_background": "light"
     },
     "output_type": "display_data"
    }
   ],
   "source": [
    "def summarise_eval(meanR_list, success_list, label=\"HUMAN\"):\n",
    "    # now show averages of evaluation metrics after all the simulations\n",
    "    mean_meanR = np.array(meanR_list).mean()\n",
    "    mean_success_rate =  np.array(success_list).mean()\n",
    "    mean_expected_value = expected_value_funds(mean_meanR)\n",
    "    print(\"FINAL EVALUATION METRICS FOR {} STRATEGY:\".format(label))\n",
    "    print(\"Mean of mean rewards: %.5f\" % mean_meanR)\n",
    "    print(\"Expected value of £100 after 100 games: £%.2f\" % mean_expected_value)\n",
    "    print(\"Mean of success rates: %.5f\" % mean_success_rate)\n",
    "    return mean_meanR, mean_success_rate, mean_expected_value\n",
    "\n",
    "# show evaluation summary\n",
    "mean_meanR, mean_success_rate, mean_expected_value = summarise_eval(list_meanR, list_success)\n",
    "\n",
    "# plot distribution of metrics per round of simulations\n",
    "f, (ax1, ax2) = plt.subplots(1,2, sharey=True)\n",
    "ax1.hist(np.array(list_meanR))\n",
    "ax1.axvline(x=mean_meanR, color=\"r\")\n",
    "ax2.hist(np.array(list_success))\n",
    "ax2.axvline(x=mean_success_rate, color=\"r\")\n",
    "ax1.set_ylabel(\"freq\")\n",
    "ax1.set_xlabel(\"mean rewards\")\n",
    "ax2.set_xlabel(\"success rate\")\n",
    "plt.show()"
   ]
  },
  {
   "cell_type": "markdown",
   "metadata": {},
   "source": [
    "So there we have it - the human strategy consistently beats the strategies our agents have learnt so far.\n",
    "\n",
    "But let's try one more thing before we conclude that the human strategy is definitely the optimal strategy to use. Let's try training a new agent over 1 million games (vs. 125,000 before), using the parameters we identified as best from grid search, but this time also adding a very slow decay into the learning rate at the end of each game after 250,000 games. This should allow the agent to start fine-tuning its approach once it has accumulated a strong foundation, rather than cycling between different strategies each time it loses a round due to \"bad luck\".\n",
    "\n",
    "You'll notice I already included the below code in the playGame() function, which will implement the desired decrease in learning rate now that we are playing more than 250,000 games:\n",
    "\n",
    "```\n",
    "if d == True:   \n",
    "    ...\n",
    "    ...\n",
    "    learn_decay_after_ep = 250000\n",
    "    if (i >= learn_decay_after_ep):\n",
    "        lr *= 0.999999\n",
    "```\n",
    "\n",
    "<div class=\"alert alert-block alert-danger\" align=\"center\"><b>Warning:</b> The next block could take up to an hour to complete and may be difficult to interrupt! </div>"
   ]
  },
  {
   "cell_type": "code",
   "execution_count": 16,
   "metadata": {},
   "outputs": [
    {
     "name": "stdout",
     "output_type": "stream",
     "text": [
      "---------------------------\n",
      "Now training agent 1/1\n",
      "DblQ: 1.00 | LR: 0.010 | g: 0.250 | pol: b | pol_param: 1.00000\n",
      "Ep: 0\tMean reward over last 25000 episodes: 1.0. (b-policy @ 1.00001)\n",
      "Ep: 200000\tMean reward over last 25000 episodes: -0.11604. (b-policy @ 5.84809)\n",
      "Ep: 400000\tMean reward over last 25000 episodes: -0.03728. (b-policy @ 34.19982)\n",
      "Ep: 600000\tMean reward over last 25000 episodes: -0.03596. (b-policy @ 200.0)\n",
      "Ep: 800000\tMean reward over last 25000 episodes: -0.03344. (b-policy @ 200.0)\n",
      "--- SUMMARY OF EP #999995 ---\n",
      "Player:\t[10 18] \n",
      "Dealer:\t[ 5 11 19] !!!\n",
      "[10, 8]\n",
      "[5, 6, 8]\n",
      "--- SUMMARY OF EP #999996 ---\n",
      "Player:\t[10 18] \n",
      "Dealer:\t[10 20] !!!\n",
      "[10, 8]\n",
      "[10, 10]\n",
      "--- SUMMARY OF EP #999997 ---\n",
      "Player:\t[ 3 13 21] !!!\n",
      "Dealer:\t[10 19] \n",
      "[3, 10, 8]\n",
      "[10, 9]\n",
      "--- SUMMARY OF EP #999998 ---\n",
      "Player:\t[ 5  8 18] \n",
      "Dealer:\t[11 14 21] !!!\n",
      "[5, 3, 10]\n",
      "[11, 3, 7]\n",
      "--- SUMMARY OF EP #999999 ---\n",
      "Player:\t[ 4  5 15] \n",
      "Dealer:\t[ 4 12 18] !!!\n",
      "[4, 1, 10]\n",
      "[4, 8, 6]\n"
     ]
    },
    {
     "data": {
      "image/png": "[encoded data removed]",
      "text/plain": [
       "<Figure size 864x288 with 1 Axes>"
      ]
     },
     "metadata": {
      "needs_background": "light"
     },
     "output_type": "display_data"
    },
    {
     "name": "stdout",
     "output_type": "stream",
     "text": [
      "...completed in 2014.7 seconds @ 496.4 games per second\n"
     ]
    },
    {
     "data": {
      "image/png": "[encoded data removed]",
      "text/plain": [
       "<Figure size 432x288 with 1 Axes>"
      ]
     },
     "metadata": {
      "needs_background": "light"
     },
     "output_type": "display_data"
    },
    {
     "data": {
      "image/png": "[encoded data removed]",
      "text/plain": [
       "<Figure size 432x288 with 1 Axes>"
      ]
     },
     "metadata": {
      "needs_background": "light"
     },
     "output_type": "display_data"
    },
    {
     "name": "stdout",
     "output_type": "stream",
     "text": [
      "---------------------------\n",
      "Validation metrics\n",
      "---------------------------\n",
      "After final episode, mean reward of -0.05452 over last 25000 episodes --> success rate: 0.45638774953455313\n",
      "After episode 609399, mean reward of -0.02084 over last 25000 episodes --> success rate: 0.44347757128783233\n",
      "---------------------------\n",
      "Pickling agents\n"
     ]
    }
   ],
   "source": [
    "### Set scope of training and evaluation\n",
    "# number of episodes to train agent over\n",
    "NUM_EPISODES_TRAIN = 1000000           \n",
    "\n",
    "# evaluate agent with mean rewards over last (N) episodes\n",
    "EVAL_LAST_N_EPS = 25000                 \n",
    "\n",
    "# Raise verbosity back up\n",
    "VERBOSE =2\n",
    "\n",
    "# Set hyper-parameters: grid format will be beneficial when we optimize these \n",
    "grid = ParameterGrid({\"dbl_Q\" : [1],                # 1 to use Double Q learning\n",
    "                          \"lr\": [0.01],             # learning rate\n",
    "                          \"y\": [0.25],              # gamma\n",
    "                          \"policy\": \"b\",            # \"e\" for e-greedy, \"b\" for boltzmann\n",
    "                          \"policy_param\":  [1],     # epsilon / tau (inverse temperature)\n",
    "                          \"num_episodes\": [NUM_EPISODES_TRAIN],\n",
    "                          \"cb_over_num_eps\": [EVAL_LAST_N_EPS],\n",
    "                          \"verbose\": [VERBOSE]})\n",
    "\n",
    "# just one set of parameters to go through at this stage\n",
    "grid_size = len(grid)\n",
    "all_eval_metrics, fine_tuned_agent_filepath, fine_tuned_agent_filepath_cb = train_agent(0, grid[0], True)"
   ]
  },
  {
   "cell_type": "markdown",
   "metadata": {},
   "source": [
    "Let's do the same number of simulations with this new agent, where learning is turned off so that we get a clear understanding of its strategy's long-run performance."
   ]
  },
  {
   "cell_type": "code",
   "execution_count": 17,
   "metadata": {},
   "outputs": [],
   "source": [
    "# load the agent's exported Q-matrix back into memory\n",
    "pickle_in = open(fine_tuned_agent_filepath,\"rb\")\n",
    "best_Q = pickle.load(pickle_in)\n",
    "\n",
    "# same for the callback version\n",
    "pickle_in = open(fine_tuned_agent_filepath_cb,\"rb\")\n",
    "best_Q_cb = pickle.load(pickle_in)"
   ]
  },
  {
   "cell_type": "code",
   "execution_count": 18,
   "metadata": {},
   "outputs": [
    {
     "data": {
      "image/png": "[encoded data removed]",
      "text/plain": [
       "<Figure size 864x288 with 1 Axes>"
      ]
     },
     "metadata": {
      "needs_background": "light"
     },
     "output_type": "display_data"
    },
    {
     "name": "stdout",
     "output_type": "stream",
     "text": [
      "Round 0. Mean rewards of -0.03516 over 25000 games --> success rate: 0.48228\n",
      "Round 25. Mean rewards of -0.04260 over 25000 games --> success rate: 0.47848\n",
      "Round 50. Mean rewards of -0.03160 over 25000 games --> success rate: 0.48408\n",
      "Round 75. Mean rewards of -0.03060 over 25000 games --> success rate: 0.48459\n",
      "Round 100. Mean rewards of -0.03836 over 25000 games --> success rate: 0.48066\n",
      "Round 125. Mean rewards of -0.03600 over 25000 games --> success rate: 0.48184\n",
      "Round 150. Mean rewards of -0.03744 over 25000 games --> success rate: 0.48114\n",
      "Round 175. Mean rewards of -0.03288 over 25000 games --> success rate: 0.48348\n",
      "Round 200. Mean rewards of -0.04484 over 25000 games --> success rate: 0.47737\n",
      "Round 225. Mean rewards of -0.02608 over 25000 games --> success rate: 0.48685\n",
      "Round 250. Mean rewards of -0.05072 over 25000 games --> success rate: 0.47448\n",
      "Round 275. Mean rewards of -0.04588 over 25000 games --> success rate: 0.47670\n",
      "Round 300. Mean rewards of -0.03704 over 25000 games --> success rate: 0.48127\n",
      "Round 325. Mean rewards of -0.04636 over 25000 games --> success rate: 0.47656\n",
      "Round 350. Mean rewards of -0.03956 over 25000 games --> success rate: 0.48007\n",
      "Round 375. Mean rewards of -0.05464 over 25000 games --> success rate: 0.47241\n"
     ]
    }
   ],
   "source": [
    "list_meanR_agent = []\n",
    "list_success_agent = []\n",
    "for t in np.arange(0, num_simulation_rounds):\n",
    "    #create list to contain total rewards and steps per episode\n",
    "    rList = []\n",
    "    for i in range(EVAL_LAST_N_EPS):\n",
    "        #Reset environment and get first new observation\n",
    "        s = env.reset()\n",
    "        rAll = 0\n",
    "        d = False\n",
    "        j = 0\n",
    "\n",
    "        # game will not exceed 20 moves, limit while loop out of caution\n",
    "        while j < 20:\n",
    "            j+=1\n",
    "\n",
    "            # choose action per fixed strategy\n",
    "            a = np.argmax(best_Q[s[0], s[1], s[2]])\n",
    "\n",
    "            #Get new state and reward from environment\n",
    "            player_hand_old = env.player.copy()\n",
    "            s1,r,d,_ = env.step(a)\n",
    "\n",
    "            # update rewards and state\n",
    "            rAll += r\n",
    "            s = s1\n",
    "\n",
    "            # end game when a winner/loser found\n",
    "            if d == True:            \n",
    "                # For each of the final 5 episodes, show the game for inspection\n",
    "                if ((i >= (NUM_EPISODES_TRAIN-5)) & (t==0)):\n",
    "                    show_ep(env.player, env.dealer, r, i)\n",
    "                break\n",
    "\n",
    "        # append reward to list\n",
    "        rList.append(rAll)\n",
    "\n",
    "    # show overall success history of fixed strategy for first simulation round\n",
    "    if t == 0:\n",
    "        plt.figure(figsize=(12,4))\n",
    "        plt.plot(np.cumsum(rList))\n",
    "        plt.title('Performance vs. episodes (AI strategy - first simulation round)')\n",
    "        plt.ylabel('Total Returns')\n",
    "        plt.xlabel('Episode number')\n",
    "        plt.show()\n",
    "\n",
    "    meanR = meanR_lastN(rList, EVAL_LAST_N_EPS)\n",
    "    ts_success, mean_success_rate = calc_success_rate2(rList, produce_ts=False)\n",
    "    \n",
    "    if t % 25 == 0:\n",
    "        print(\"Round %i. Mean rewards of %.5f over %i games --> success rate: %.5f\" % (t, meanR,\n",
    "                                                                          EVAL_LAST_N_EPS,\n",
    "                                                                          mean_success_rate))\n",
    "    # add new metrics to running lists\n",
    "    list_meanR_agent.append(meanR)\n",
    "    list_success_agent.append(mean_success_rate)"
   ]
  },
  {
   "cell_type": "code",
   "execution_count": 19,
   "metadata": {},
   "outputs": [
    {
     "name": "stdout",
     "output_type": "stream",
     "text": [
      "FINAL EVALUATION METRICS FOR AI STRATEGY:\n",
      "Mean of mean rewards: -0.04166\n",
      "Expected value of £100 after 100 games: £95.83\n",
      "Mean of success rates: 0.47901\n"
     ]
    },
    {
     "data": {
      "image/png": "[encoded data removed]",
      "text/plain": [
       "<Figure size 432x288 with 2 Axes>"
      ]
     },
     "metadata": {
      "needs_background": "light"
     },
     "output_type": "display_data"
    },
    {
     "name": "stdout",
     "output_type": "stream",
     "text": [
      "Mean AI performance relative to human:\t99.154 pc\n"
     ]
    }
   ],
   "source": [
    "# now show averages of evaluation metrics after all the simulations\n",
    "mean_meanR_agent, mean_success_rate_agent, mean_expected_value_agent = summarise_eval(list_meanR_agent,\n",
    "                                                                                      list_success_agent,\n",
    "                                                                                      label=\"AI\")\n",
    "\n",
    "## Show the human / AI distributions side-by-side for comparison\n",
    "# form consistent bins for both distributions\n",
    "num_bins = 15\n",
    "low = np.min([np.min(list_meanR), np.min(list_meanR_agent)])\n",
    "high = np.max([np.max(list_meanR), np.max(list_meanR_agent), 0.0])\n",
    "bins = np.linspace(low, high, num_bins)\n",
    "low = np.min([np.min(list_success), np.min(list_success_agent)])\n",
    "high = np.max([np.max(list_success), np.max(list_success_agent), 0.5])\n",
    "bins2 = np.linspace(low, high, num_bins)\n",
    "\n",
    "# plot as histograms\n",
    "f, (ax1, ax2) = plt.subplots(1,2, sharey=True)\n",
    "ax1.hist(np.array(list_meanR), bins=bins, alpha=0.25, label=\"Human\")\n",
    "ax1.hist(np.array(list_meanR_agent), bins=bins,  alpha=0.25, label=\"AI\")\n",
    "ax1.axvline(x=mean_meanR, color=\"purple\", linestyle=\"--\", label=\"Human mean\")\n",
    "ax1.axvline(x=mean_meanR_agent, color=\"red\", linestyle=\"--\", label=\"AI mean\")\n",
    "ax2.hist(np.array(list_success), bins=bins2, alpha=0.25, label=\"Human\")\n",
    "ax2.hist(np.array(list_success_agent), bins=bins2, alpha=0.25, label=\"AI\")\n",
    "ax2.axvline(x=mean_success_rate, color=\"purple\", linestyle=\"--\", label=\"Human mean\")\n",
    "ax2.axvline(x=mean_success_rate_agent, color=\"red\", linestyle=\"--\", label=\"AI mean\")\n",
    "ax1.set_ylabel(\"freq\")\n",
    "ax1.set_xlabel(\"mean rewards\")\n",
    "ax2.set_xlabel(\"success rate\")\n",
    "ax2.legend(loc='center left', bbox_to_anchor=(1.1, 0.5))\n",
    "plt.show()\n",
    "\n",
    "# summarise agent performance as pc expected value funds vs human expected value funds\n",
    "agent_pc_expected_value = mean_expected_value_agent / mean_expected_value\n",
    "print(\"Mean AI performance relative to human:\\t%.3f pc\" % (100*agent_pc_expected_value))"
   ]
  },
  {
   "cell_type": "markdown",
   "metadata": {},
   "source": [
    "While the extra training at lower learning rate certainly helped our agent, it is still not quite as good as the human strategy. If we take the average \"expected value of £100 after 100 games\" for the human and treat it as the benchmark for perfect performance (~ \"100% accuracy\"), this allows us to calculate a neat \"accuracy\" metric for the agent. As shown above, the agent has learnt a strategy which is <font color=\"red\">99.66%</font> accurate."
   ]
  },
  {
   "cell_type": "markdown",
   "metadata": {},
   "source": [
    "### 7. Discussion\n",
    "\n",
    "\n"
   ]
  },
  {
   "cell_type": "markdown",
   "metadata": {},
   "source": [
    "We spent quite a lot of time analysing the difference in performance between our best agent and the human strategy, but I'm still curious to see what differences there are in actual playing style. \n",
    "\n",
    "Let's re-plot the advice chart we made earlier for the human strategy, then use the same function to plot the equivalent for the best agent's strategy. "
   ]
  },
  {
   "cell_type": "code",
   "execution_count": 20,
   "metadata": {},
   "outputs": [
    {
     "data": {
      "image/png": "[encoded data removed]",
      "text/plain": [
       "<Figure size 864x432 with 2 Axes>"
      ]
     },
     "metadata": {
      "needs_background": "light"
     },
     "output_type": "display_data"
    },
    {
     "name": "stdout",
     "output_type": "stream",
     "text": [
      "Legend:\n",
      "S = Stick || H = Hit || D = Double  || Initial card 1 = Ace\n"
     ]
    },
    {
     "data": {
      "image/png": "[encoded data removed]",
      "text/plain": [
       "<Figure size 864x432 with 2 Axes>"
      ]
     },
     "metadata": {
      "needs_background": "light"
     },
     "output_type": "display_data"
    },
    {
     "name": "stdout",
     "output_type": "stream",
     "text": [
      "Legend:\n",
      "S = Stick || H = Hit || D = Double  || Initial card 1 = Ace\n",
      "Mean of agent's Q-matrix:\t-0.06522921305662545\n"
     ]
    }
   ],
   "source": [
    "make_adviceChart(Q_in = None, add_title='\\nHuman strategy', smeChart=True)\n",
    "make_adviceChart(Q_in = best_Q, add_title='\\nBest agent strategy', smeChart=False)\n",
    "\n",
    "# show the mean value of the Q-matrix\n",
    "print(\"Mean of agent's Q-matrix:\\t{}\".format(best_Q.mean()))"
   ]
  },
  {
   "cell_type": "code",
   "execution_count": null,
   "metadata": {},
   "outputs": [],
   "source": []
  }
 ],
 "metadata": {
  "kernelspec": {
   "display_name": "Python (gym_env)",
   "language": "python",
   "name": "gym_env"
  },
  "language_info": {
   "codemirror_mode": {
    "name": "ipython",
    "version": 3
   },
   "file_extension": ".py",
   "mimetype": "text/x-python",
   "name": "python",
   "nbconvert_exporter": "python",
   "pygments_lexer": "ipython3",
   "version": "3.7.1"
  }
 },
 "nbformat": 4,
 "nbformat_minor": 2
}
